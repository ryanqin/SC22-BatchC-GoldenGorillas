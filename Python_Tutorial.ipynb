{
  "nbformat": 4,
  "nbformat_minor": 0,
  "metadata": {
    "colab": {
      "provenance": [],
      "private_outputs": true,
      "include_colab_link": true
    },
    "language_info": {
      "codemirror_mode": {
        "name": "ipython",
        "version": 3
      },
      "file_extension": ".py",
      "mimetype": "text/x-python",
      "name": "python",
      "nbconvert_exporter": "python",
      "pygments_lexer": "ipython3",
      "version": "3.5.6"
    },
    "kernelspec": {
      "display_name": "Python 3",
      "name": "python3"
    }
  },
  "cells": [
    {
      "cell_type": "markdown",
      "metadata": {
        "id": "view-in-github",
        "colab_type": "text"
      },
      "source": [
        "<a href=\"https://colab.research.google.com/github/ryanqin/SC22-BatchC-GoldenGorillas/blob/main/Python_Tutorial.ipynb\" target=\"_parent\"><img src=\"https://colab.research.google.com/assets/colab-badge.svg\" alt=\"Open In Colab\"/></a>"
      ]
    },
    {
      "cell_type": "markdown",
      "metadata": {
        "name": "folks",
        "id": "k3zjGBUQjWHo"
      },
      "source": [
        "# Python Tutorial\n",
        "\n",
        "\n",
        "*References:*\n",
        "1. https://docs.python.org/3/tutorial/\n",
        "2. https://docs.python.org/3/library/\n",
        "3. http://cs231n.github.io/python-numpy-tutorial/\n",
        "4. https://github.com/donnemartin/data-science-ipython-notebooks"
      ]
    },
    {
      "cell_type": "code",
      "metadata": {
        "id": "3cDcKyK1jWHs"
      },
      "source": [
        "print ('Hello Python3!')"
      ],
      "execution_count": null,
      "outputs": []
    },
    {
      "cell_type": "markdown",
      "metadata": {
        "id": "zw_XtHo5jWHv"
      },
      "source": [
        "# Python Basics\n",
        "\n",
        "- Variables and Types\n",
        "- Operators\n",
        "- Containers\n",
        "- Functions\n",
        "- Control Flow\n"
      ]
    },
    {
      "cell_type": "markdown",
      "metadata": {
        "id": "dN-ETPL9jWHw"
      },
      "source": [
        "### Variables, Types, and Operators"
      ]
    },
    {
      "cell_type": "code",
      "metadata": {
        "id": "jPtbrkbVjWHx"
      },
      "source": [
        "x = 3\n",
        "print(x, type(x))"
      ],
      "execution_count": null,
      "outputs": []
    },
    {
      "cell_type": "code",
      "metadata": {
        "id": "4aHTdefsjWH0"
      },
      "source": [
        "print(x + 3)   # Addition\n",
        "print(x - x)   # Subtraction\n",
        "print(x * 2)   # Multiplication\n",
        "print(x ** 3)  # Exponentiation"
      ],
      "execution_count": null,
      "outputs": []
    },
    {
      "cell_type": "code",
      "metadata": {
        "id": "3ufnILPajWH2"
      },
      "source": [
        "x += 1    # addition-assignment\n",
        "x *= 2    # multiplication-assignment\n",
        "print(x)  # Prints \"8\""
      ],
      "execution_count": null,
      "outputs": []
    },
    {
      "cell_type": "code",
      "metadata": {
        "id": "JK0T4m9fjWH5"
      },
      "source": [
        "y = 2.5\n",
        "print(type(y))  # Prints \"<class 'float'>\"\n",
        "print(y, y + 1, y * 2, y ** 2) # Prints \"2.5 3.5 5.0 6.25\""
      ],
      "execution_count": null,
      "outputs": []
    },
    {
      "cell_type": "code",
      "metadata": {
        "id": "V_mJ4qXtjWH9"
      },
      "source": [
        "t, f = True, False  # Note the Captilzation!\n",
        "print(type(t))      # Prints \"<class 'bool'>\""
      ],
      "execution_count": null,
      "outputs": []
    },
    {
      "cell_type": "code",
      "metadata": {
        "id": "ZP7z6SXijWIA"
      },
      "source": [
        "print(t and f) # Logical AND\n",
        "print(t or f)  # Logical OR\n",
        "print(not t)   # Logical NOT\n",
        "print(t != f)  # Logical XOR"
      ],
      "execution_count": null,
      "outputs": []
    },
    {
      "cell_type": "code",
      "metadata": {
        "id": "ZlGtxyIsjWH7"
      },
      "source": [
        "print(17 / 3)   # return float\n",
        "print(17 // 3)  # return integer\n",
        "print(17 % 3)   # modulo"
      ],
      "execution_count": null,
      "outputs": []
    },
    {
      "cell_type": "code",
      "metadata": {
        "id": "GGuMm2IpjWIC"
      },
      "source": [
        "hello = 'hello'   # String literals can use single quotes\n",
        "world = \"world\"   # or double quotes; it does not matter.\n",
        "print(hello, len(hello)) # len gives you length of sequence"
      ],
      "execution_count": null,
      "outputs": []
    },
    {
      "cell_type": "code",
      "metadata": {
        "id": "PebCW1vhjWIF"
      },
      "source": [
        "hw = hello + ' ' + world  # String concatenation\n",
        "print(hw)  # prints \"hello world\""
      ],
      "execution_count": null,
      "outputs": []
    },
    {
      "cell_type": "markdown",
      "source": [
        "#### Exercise Q2.1"
      ],
      "metadata": {
        "id": "wflMg0HYKBlT"
      }
    },
    {
      "cell_type": "code",
      "source": [
        "# Exercise: float division\n",
        "print(11.0 // 2.5)"
      ],
      "metadata": {
        "id": "RXbb0pi7AcR2"
      },
      "execution_count": null,
      "outputs": []
    },
    {
      "cell_type": "markdown",
      "source": [
        "#### Exercise Q2.2"
      ],
      "metadata": {
        "id": "SZqteJkwJ92J"
      }
    },
    {
      "cell_type": "code",
      "metadata": {
        "id": "S51PPmLZjWIJ"
      },
      "source": [
        "# Exercise: adding strings and numbers?\n",
        "s = 'CS'\n",
        "x = 334\n",
        "print(f'{s}{x}')"
      ],
      "execution_count": null,
      "outputs": []
    },
    {
      "cell_type": "markdown",
      "metadata": {
        "id": "jTlQp4FcjWIL"
      },
      "source": [
        "You can find a list of all string methods in the [documentation](https://docs.python.org/3/library/string.html)."
      ]
    },
    {
      "cell_type": "markdown",
      "metadata": {
        "id": "g-m4nJmxjWIM"
      },
      "source": [
        "### Containers\n",
        "\n",
        "Python includes several built-in container types: lists and dictionaries"
      ]
    },
    {
      "cell_type": "code",
      "metadata": {
        "id": "92IBeg7UjWIM"
      },
      "source": [
        "x = [1, 2, 3, 'a', 'b', 'c'] # Create a list\n",
        "print(x[0])     # access by index\n",
        "print(x[-1])    # index can be negative"
      ],
      "execution_count": null,
      "outputs": []
    },
    {
      "cell_type": "code",
      "source": [
        "# modify item\n",
        "x[0] = 100\n",
        "print(x)"
      ],
      "metadata": {
        "id": "SxBO4WJmRo52"
      },
      "execution_count": null,
      "outputs": []
    },
    {
      "cell_type": "code",
      "metadata": {
        "id": "pmHU6BPQjWIO"
      },
      "source": [
        "# What happens is our index is too big?\n",
        "x[6]"
      ],
      "execution_count": null,
      "outputs": []
    },
    {
      "cell_type": "code",
      "metadata": {
        "id": "9IhSwvv5jWIQ"
      },
      "source": [
        "x = [1, 2, 3, 'a', 'b', 'c'] + ['A', 'B', 'C'] # list append with the + operator\n",
        "x"
      ],
      "execution_count": null,
      "outputs": []
    },
    {
      "cell_type": "code",
      "metadata": {
        "id": "EEzReDMijWIS"
      },
      "source": [
        "x.append('element')\n",
        "print(x)\n",
        "print(x.pop(), x)\n",
        "print('element' in x)"
      ],
      "execution_count": null,
      "outputs": []
    },
    {
      "cell_type": "code",
      "metadata": {
        "id": "R5EElr-BjWIV"
      },
      "source": [
        "# slice for index range, right exclusive\n",
        "x = [1, 2, 3, 4, 5]\n",
        "print(x[2:])\n",
        "print(x[:3])\n",
        "print(x[2:5])\n",
        "x[2:5] = [-3, -4, -5]  # modify elements in list\n",
        "print(x)"
      ],
      "execution_count": null,
      "outputs": []
    },
    {
      "cell_type": "code",
      "metadata": {
        "id": "RcgwB_PUjWIh"
      },
      "source": [
        "# Common mistake: copying lists\n",
        "first_list = [1,2,3]\n",
        "second_list = first_list\n",
        "second_list[2] = 100\n",
        "print (first_list)\n",
        "print (second_list)"
      ],
      "execution_count": null,
      "outputs": []
    },
    {
      "cell_type": "code",
      "metadata": {
        "id": "lVQ1g8_TjWIk"
      },
      "source": [
        "# Fixed: copying lists\n",
        "first_list = [1,2,3]\n",
        "second_list = first_list[:] # copy all the elements to the first list\n",
        "second_list[2] = 100\n",
        "print (first_list)\n",
        "print (second_list)"
      ],
      "execution_count": null,
      "outputs": []
    },
    {
      "cell_type": "code",
      "metadata": {
        "id": "R6Ga-GtEjWIX"
      },
      "source": [
        "# Dictionaries\n",
        "new_dct = {}\n",
        "new_dct['hello'] = 'world!' # {\"key\" : \"value\"}\n",
        "print(new_dct)              # prints the key and value\n",
        "print(new_dct['hello'])     # prints the value corresponding to the key"
      ],
      "execution_count": null,
      "outputs": []
    },
    {
      "cell_type": "markdown",
      "source": [
        "#### Exercise Q2.3"
      ],
      "metadata": {
        "id": "nYteFNWeJzaN"
      }
    },
    {
      "cell_type": "code",
      "metadata": {
        "id": "mGoocjyXjWIa"
      },
      "source": [
        "# Exercise: copying dictionaries\n",
        "dct1 = {'hello': 'world!', 'it\\'s!': 'me!'}\n",
        "dct2 = dct1.copy()\n",
        "dct2['it\\'s!'] = 'you!'\n",
        "print(dct1)\n",
        "print(dct2)"
      ],
      "execution_count": null,
      "outputs": []
    },
    {
      "cell_type": "markdown",
      "metadata": {
        "id": "gllhjHFdjWIn"
      },
      "source": [
        "### Functions"
      ]
    },
    {
      "cell_type": "code",
      "metadata": {
        "id": "PMcOVrYDjWIo"
      },
      "source": [
        "def hours_and_minutes(minutes): # Define function, provide arguments\n",
        "    n_hours = minutes // 60\n",
        "    n_minutes = minutes % 60\n",
        "    return n_hours, n_minutes\n",
        "\n",
        "print(hours_and_minutes(181))\n",
        "print(hours_and_minutes(72))"
      ],
      "execution_count": null,
      "outputs": []
    },
    {
      "cell_type": "code",
      "metadata": {
        "id": "UxXkRyWfjWIr"
      },
      "source": [
        "print(n_minutes) # undefined since it is a local variable in the function"
      ],
      "execution_count": null,
      "outputs": []
    },
    {
      "cell_type": "markdown",
      "metadata": {
        "id": "dQNCzjAhjWIu"
      },
      "source": [
        "### Control Flow\n",
        "\n",
        "Conditional statements and loops can purposefully control the order of code that is run"
      ]
    },
    {
      "cell_type": "code",
      "metadata": {
        "id": "ME4dyxjXjWIv"
      },
      "source": [
        "# An example of an if-elif-else clause\n",
        "day = 'Thursday'\n",
        "if day == 'Tuesday' or day == 'Thursday':\n",
        "    print('Time to Machine Learn!')\n",
        "elif day in ['Saturday', 'Sunday']:\n",
        "    print('The Weekend!')\n",
        "else:\n",
        "    print('Just Another Day :/')"
      ],
      "execution_count": null,
      "outputs": []
    },
    {
      "cell_type": "code",
      "metadata": {
        "id": "eZS5JTXDjWI7"
      },
      "source": [
        "# Print 'Not there yet!' Until i gets to 10\n",
        "i = 0\n",
        "while i < 10:\n",
        "    print('Not there yet!')\n",
        "    i+= 1\n",
        "print(i)"
      ],
      "execution_count": null,
      "outputs": []
    },
    {
      "cell_type": "code",
      "metadata": {
        "id": "u6MX1EmSjWIx"
      },
      "source": [
        "# Looping through a container\n",
        "animals = ['cat', 'dog', 'monkey']\n",
        "for animal in animals:\n",
        "    print(animal)"
      ],
      "execution_count": null,
      "outputs": []
    },
    {
      "cell_type": "code",
      "metadata": {
        "id": "uNYORJ0DjWIz"
      },
      "source": [
        "# Looping through a container with index\n",
        "animals = ['cat', 'dog', 'monkey']\n",
        "for idx in range(len(animals)):\n",
        "    print(animals[idx])"
      ],
      "execution_count": null,
      "outputs": []
    },
    {
      "cell_type": "code",
      "metadata": {
        "id": "K2uHNwd-jWI1"
      },
      "source": [
        "x = [1,2,3]\n",
        "y = []\n",
        "for item in x:\n",
        "    y.append(item*item)\n",
        "print(y)"
      ],
      "execution_count": null,
      "outputs": []
    },
    {
      "cell_type": "code",
      "metadata": {
        "id": "MZLB5octjWI3"
      },
      "source": [
        "# List comprehension\n",
        "x = [1, 2, 3]\n",
        "y = [item*item for item in x]\n",
        "print(y)"
      ],
      "execution_count": null,
      "outputs": []
    },
    {
      "cell_type": "markdown",
      "metadata": {
        "id": "w5pVB96fjWJB"
      },
      "source": [
        "# Packages\n",
        "\n",
        "- import modules\n",
        "- numpy\n",
        "- pandas\n",
        "- matplotlib\n"
      ]
    },
    {
      "cell_type": "code",
      "metadata": {
        "id": "gBFNx_nUjWJB"
      },
      "source": [
        "import math\n",
        "print(math.sqrt(16))\n",
        "\n",
        "from math import sqrt\n",
        "print(sqrt(16))\n",
        "\n",
        "import math as m\n",
        "print(m.sqrt(16))"
      ],
      "execution_count": null,
      "outputs": []
    },
    {
      "cell_type": "markdown",
      "metadata": {
        "id": "IfOd05PPjWJD"
      },
      "source": [
        "### NumPy"
      ]
    },
    {
      "cell_type": "code",
      "metadata": {
        "id": "KV5AY68tjWJD"
      },
      "source": [
        "import numpy as np"
      ],
      "execution_count": null,
      "outputs": []
    },
    {
      "cell_type": "code",
      "metadata": {
        "id": "BLjCEj1KjWJE"
      },
      "source": [
        "x = np.array([1, 2, 3])\n",
        "print(x.shape)\n",
        "print(x)"
      ],
      "execution_count": null,
      "outputs": []
    },
    {
      "cell_type": "code",
      "source": [
        "A = np.array([[1,0,0], [0,1,1]])\n",
        "print(A.shape)\n",
        "print(A)\n",
        "print(A.T)"
      ],
      "metadata": {
        "id": "lBek7Jq1HhXt"
      },
      "execution_count": null,
      "outputs": []
    },
    {
      "cell_type": "code",
      "metadata": {
        "id": "A-4YSTFfjWJK"
      },
      "source": [
        "print(x + 1)\n",
        "print(x * 2)\n",
        "print(x ** 2)"
      ],
      "execution_count": null,
      "outputs": []
    },
    {
      "cell_type": "code",
      "source": [
        "print(x > 1)\n",
        "print(x == 1)"
      ],
      "metadata": {
        "id": "1s6ZcL_xG1Bl"
      },
      "execution_count": null,
      "outputs": []
    },
    {
      "cell_type": "code",
      "source": [
        "# dot product\n",
        "print(x @ x)\n",
        "print(np.dot(x, x))\n",
        "print(x.dot(x))"
      ],
      "metadata": {
        "id": "Ys33fF7GHybc"
      },
      "execution_count": null,
      "outputs": []
    },
    {
      "cell_type": "code",
      "source": [
        "print(A @ x)\n",
        "print(np.dot(A, x))\n",
        "print(A.dot(x))"
      ],
      "metadata": {
        "id": "ju0M5lcWH9fQ"
      },
      "execution_count": null,
      "outputs": []
    },
    {
      "cell_type": "code",
      "source": [
        "print(np.sum(x))\n",
        "print(np.mean(x))\n",
        "print(np.std(x))"
      ],
      "metadata": {
        "id": "XOc_9b4zId0p"
      },
      "execution_count": null,
      "outputs": []
    },
    {
      "cell_type": "code",
      "source": [
        "print(np.sum(A, axis=0))\n",
        "print(np.mean(A, axis=0))\n",
        "print(np.std(A, axis=0))"
      ],
      "metadata": {
        "id": "EKt8LUhLIwGZ"
      },
      "execution_count": null,
      "outputs": []
    },
    {
      "cell_type": "markdown",
      "source": [
        "#### Exercise Q3.1-Q3.2"
      ],
      "metadata": {
        "id": "XxsfQ5JjKPEo"
      }
    },
    {
      "cell_type": "code",
      "metadata": {
        "id": "29ntuxVqjWJf"
      },
      "source": [
        "import numpy as np\n",
        "rng = np.random.default_rng(334)\n",
        "x1 = rng.random(4)\n",
        "x2 = rng.integers(0, 20, size=(5,4))\n",
        "x3 = rng.random((5,4,3))\n",
        "x4 = rng.integers(0, 10, size=(5,4))"
      ],
      "execution_count": null,
      "outputs": []
    },
    {
      "cell_type": "code",
      "source": [
        "# Q3.1 shape vs. size\n",
        "print(x3.shape)\n",
        "print(x2.shape)"
      ],
      "metadata": {
        "id": "XtTBR5zFfJDG"
      },
      "execution_count": null,
      "outputs": []
    },
    {
      "cell_type": "code",
      "source": [
        "# Q3.2 Multiplication\n",
        "print(x2 * x4)\n",
        "print(x2 @ x1)"
      ],
      "metadata": {
        "id": "gMAWm-2JfK0x"
      },
      "execution_count": null,
      "outputs": []
    },
    {
      "cell_type": "markdown",
      "source": [
        "#### Exercise Q3.3"
      ],
      "metadata": {
        "id": "jtEOQv0zfQqU"
      }
    },
    {
      "cell_type": "code",
      "source": [
        "# debug the following\n",
        "import numpy as np\n",
        "arr = np.array([1,2,3], dtype=np.float64)\n",
        "arr[0] = 1.5  # trying to change 1 to 1.5\n",
        "print(arr)"
      ],
      "metadata": {
        "id": "erVqMtnCfSkF"
      },
      "execution_count": null,
      "outputs": []
    },
    {
      "cell_type": "markdown",
      "source": [
        "## Pandas"
      ],
      "metadata": {
        "id": "YJES3-spKU8k"
      }
    },
    {
      "cell_type": "code",
      "source": [
        "import pandas as pd"
      ],
      "metadata": {
        "id": "rQI7RGyhKW56"
      },
      "execution_count": null,
      "outputs": []
    },
    {
      "cell_type": "code",
      "source": [
        "df = pd.DataFrame([[1, 1, 'odd'], [2, 4, 'even'], [3, 9, 'odd'], [4, 16, 'even']], columns=['x', 'x^2', 'parity'])\n",
        "df"
      ],
      "metadata": {
        "id": "8z8FHjN6N1Y3"
      },
      "execution_count": null,
      "outputs": []
    },
    {
      "cell_type": "code",
      "source": [
        "df[df['parity'] == 'odd']"
      ],
      "metadata": {
        "id": "maqIJ4K-ODjp"
      },
      "execution_count": null,
      "outputs": []
    },
    {
      "cell_type": "code",
      "source": [
        "df[df['parity'] == 'odd']['x'].mean()"
      ],
      "metadata": {
        "id": "jp_e7GJIOhrX"
      },
      "execution_count": null,
      "outputs": []
    },
    {
      "cell_type": "markdown",
      "metadata": {
        "id": "UVGtM29LjWJo"
      },
      "source": [
        "### Matplotlib"
      ]
    },
    {
      "cell_type": "code",
      "metadata": {
        "id": "k0siVdHEjWJo"
      },
      "source": [
        "import matplotlib.pylab as plt"
      ],
      "execution_count": null,
      "outputs": []
    },
    {
      "cell_type": "code",
      "source": [
        "# Plotting lines\n",
        "x = np.arange(5)\n",
        "y = x ** 2\n",
        "plt.plot(x, y)\n",
        "plt.show()"
      ],
      "metadata": {
        "id": "jc4dBYpHNCYZ"
      },
      "execution_count": null,
      "outputs": []
    },
    {
      "cell_type": "code",
      "metadata": {
        "id": "N-Ixu6IrjWJq"
      },
      "source": [
        "# Plotting multiple lines with color, marker, and line style specification and axis labels\n",
        "x = np.linspace(0,1,10)\n",
        "y1 = x ** 2\n",
        "y2 = np.sin(x)\n",
        "\n",
        "plt.plot(x, y1, 'ro:', label=\"parabola\")\n",
        "plt.plot(x, y2, 'gx--', label=\"sine\")\n",
        "plt.xlabel('some numbers')\n",
        "plt.ylabel('some more numbers')\n",
        "plt.legend()\n",
        "plt.show()"
      ],
      "execution_count": null,
      "outputs": []
    },
    {
      "cell_type": "code",
      "metadata": {
        "id": "x_97XpC0jWJt"
      },
      "source": [
        "# Create sample data, add some noise, make a scatter plot\n",
        "x = np.random.uniform(1, 1000, 1000)\n",
        "y = np.log(x) + np.random.normal(0, .3, 1000)\n",
        "plt.scatter(x, y, s=5)\n",
        "plt.show()"
      ],
      "execution_count": null,
      "outputs": []
    },
    {
      "cell_type": "markdown",
      "source": [
        "## Exercise Q4\n",
        "Download the iris_cs334.csv file from Canvas, and upload it using the file picker on the left.\n"
      ],
      "metadata": {
        "id": "JVTjRLIeMHkQ"
      }
    },
    {
      "cell_type": "code",
      "source": [
        "# Read in the file\n",
        "df = pd.read_csv('iris_cs334.csv')"
      ],
      "metadata": {
        "id": "yg0TvFs3LNbu"
      },
      "execution_count": null,
      "outputs": []
    },
    {
      "cell_type": "code",
      "source": [
        "df"
      ],
      "metadata": {
        "id": "_sZNiwWsQgmd"
      },
      "execution_count": null,
      "outputs": []
    },
    {
      "cell_type": "code",
      "source": [
        "# Q4.1 Summary Statistics\n",
        "\n",
        "# Median of petal length\n",
        "## INSERT CODE HERE ##\n",
        "\n",
        "# Mean of sepal width for Virginica\n",
        "## INSERT CODE HERE ##\n",
        "\n",
        "# Std of sepal length for Setosa\n",
        "## INSERT CODE HERE ##"
      ],
      "metadata": {
        "id": "KJ9uWD5cWgPK"
      },
      "execution_count": null,
      "outputs": []
    },
    {
      "cell_type": "code",
      "source": [
        "# Q4.2 Scatterplot\n",
        "## INSERT CODE HERE ##"
      ],
      "metadata": {
        "id": "dSgOukKGW2D5"
      },
      "execution_count": null,
      "outputs": []
    },
    {
      "cell_type": "code",
      "source": [
        "# Q4.3 Boxplot\n",
        "## INSERT CODE HERE ##"
      ],
      "metadata": {
        "id": "FURacYZNWxFC"
      },
      "execution_count": null,
      "outputs": []
    },
    {
      "cell_type": "code",
      "source": [],
      "metadata": {
        "id": "hoIuAZrZRgmP"
      },
      "execution_count": null,
      "outputs": []
    }
  ]
}